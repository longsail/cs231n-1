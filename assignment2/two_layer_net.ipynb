{
 "metadata": {
  "name": "",
  "signature": "sha256:62963f04c1048d262dfb7176c50f0e5d127c7e69cfb4f60d83f06120231da3be"
 },
 "nbformat": 3,
 "nbformat_minor": 0,
 "worksheets": [
  {
   "cells": [
    {
     "cell_type": "markdown",
     "metadata": {},
     "source": [
      "# Implementing a Neural Network\n",
      "In this exercise we will develop a neural network with fully-connected layers to perform classification, and test it out on the CIFAR-10 dataset."
     ]
    },
    {
     "cell_type": "code",
     "collapsed": false,
     "input": [
      "# A bit of setup\n",
      "\n",
      "import numpy as np\n",
      "import matplotlib.pyplot as plt\n",
      "\n",
      "%matplotlib inline\n",
      "plt.rcParams['figure.figsize'] = (10.0, 8.0) # set default size of plots\n",
      "plt.rcParams['image.interpolation'] = 'nearest'\n",
      "plt.rcParams['image.cmap'] = 'gray'\n",
      "\n",
      "# for auto-reloading external modules\n",
      "# see http://stackoverflow.com/questions/1907993/autoreload-of-modules-in-ipython\n",
      "%load_ext autoreload\n",
      "%autoreload 2\n",
      "\n",
      "def rel_error(x, y):\n",
      "  \"\"\" returns relative error \"\"\"\n",
      "  return np.max(np.abs(x - y) / (np.maximum(1e-8, np.abs(x) + np.abs(y))))"
     ],
     "language": "python",
     "metadata": {},
     "outputs": [],
     "prompt_number": 1
    },
    {
     "cell_type": "markdown",
     "metadata": {},
     "source": [
      "The neural network parameters will be stored in a dictionary (`model` below), where the keys are the parameter names and the values are numpy arrays. Below, we initialize toy data and a toy model that we will use to verify your implementations."
     ]
    },
    {
     "cell_type": "code",
     "collapsed": false,
     "input": [
      "# Create some toy data to check your implementations\n",
      "input_size = 4\n",
      "hidden_size = 10\n",
      "num_classes = 3\n",
      "num_inputs = 5\n",
      "\n",
      "def init_toy_model():\n",
      "  model = {}\n",
      "  model['W1'] = np.linspace(-0.2, 0.6, num=input_size*hidden_size).reshape(input_size, hidden_size)\n",
      "  model['b1'] = np.linspace(-0.3, 0.7, num=hidden_size)\n",
      "  model['W2'] = np.linspace(-0.4, 0.1, num=hidden_size*num_classes).reshape(hidden_size, num_classes)\n",
      "  model['b2'] = np.linspace(-0.5, 0.9, num=num_classes)\n",
      "  return model\n",
      "\n",
      "def init_toy_data():\n",
      "  X = np.linspace(-0.2, 0.5, num=num_inputs*input_size).reshape(num_inputs, input_size)\n",
      "  y = np.array([0, 1, 2, 2, 1])\n",
      "  return X, y\n",
      "\n",
      "model = init_toy_model()\n",
      "X, y = init_toy_data()"
     ],
     "language": "python",
     "metadata": {},
     "outputs": [],
     "prompt_number": 2
    },
    {
     "cell_type": "markdown",
     "metadata": {},
     "source": [
      "# Forward pass: compute scores\n",
      "Open the file `cs231n/classifiers/neural_net.py` and look at the function `two_layer_net`. This function is very similar to the loss functions you have written for the SVM and Softmax exercises: It takes the data and weights and computes the class scores, the loss, and the gradients on the parameters. \n",
      "\n",
      "Implement the first part of the forward pass which uses the weights and biases to compute the scores for all inputs."
     ]
    },
    {
     "cell_type": "code",
     "collapsed": false,
     "input": [
      "from cs231n.classifiers.neural_net import two_layer_net\n",
      "\n",
      "scores = two_layer_net(X, model)\n",
      "print scores\n",
      "correct_scores = [[-0.5328368, 0.20031504, 0.93346689],\n",
      " [-0.59412164, 0.15498488, 0.9040914 ],\n",
      " [-0.67658362, 0.08978957, 0.85616275],\n",
      " [-0.77092643, 0.01339997, 0.79772637],\n",
      " [-0.89110401, -0.08754544, 0.71601312]]\n",
      "\n",
      "# the difference should be very small. We get 3e-8\n",
      "print 'Difference between your scores and correct scores:'\n",
      "print np.sum(np.abs(scores - correct_scores))"
     ],
     "language": "python",
     "metadata": {},
     "outputs": [
      {
       "output_type": "stream",
       "stream": "stdout",
       "text": [
        "[[-0.5328368   0.20031504  0.93346689]\n",
        " [-0.59412164  0.15498488  0.9040914 ]\n",
        " [-0.67658362  0.08978957  0.85616275]\n",
        " [-0.77092643  0.01339997  0.79772637]\n",
        " [-0.89110401 -0.08754544  0.71601312]]\n",
        "Difference between your scores and correct scores:\n",
        "3.84868228918e-08\n"
       ]
      }
     ],
     "prompt_number": 3
    },
    {
     "cell_type": "markdown",
     "metadata": {},
     "source": [
      "# Forward pass: compute loss\n",
      "In the same function, implement the second part that computes the data and regularizaion loss."
     ]
    },
    {
     "cell_type": "code",
     "collapsed": false,
     "input": [
      "reg = 0.1\n",
      "loss, _ = two_layer_net(X, model, y, reg)\n",
      "correct_loss = 1.38191946092\n",
      "\n",
      "# should be very small, we get 5e-12\n",
      "print 'Difference between your loss and correct loss:'\n",
      "print np.sum(np.abs(loss - correct_loss))"
     ],
     "language": "python",
     "metadata": {},
     "outputs": [
      {
       "output_type": "stream",
       "stream": "stdout",
       "text": [
        "Difference between your loss and correct loss:\n",
        "4.67692551354e-12\n"
       ]
      }
     ],
     "prompt_number": 4
    },
    {
     "cell_type": "markdown",
     "metadata": {},
     "source": [
      "# Backward pass\n",
      "Implement the rest of the function. This will compute the gradient of the loss with respect to the variables `W1`, `b1`, `W2`, and `b2`. Now that you (hopefully!) have a correctly implemented forward pass, you can debug your backward pass using a numeric gradient check:"
     ]
    },
    {
     "cell_type": "code",
     "collapsed": false,
     "input": [
      "from cs231n.gradient_check import eval_numerical_gradient\n",
      "\n",
      "# Use numeric gradient checking to check your implementation of the backward pass.\n",
      "# If your implementation is correct, the difference between the numeric and\n",
      "# analytic gradients should be less than 1e-8 for each of W1, W2, b1, and b2.\n",
      "\n",
      "loss, grads = two_layer_net(X, model, y, reg)\n",
      "\n",
      "# these should all be less than 1e-8 or so\n",
      "for param_name in grads:\n",
      "  param_grad_num = eval_numerical_gradient(lambda W: two_layer_net(X, model, y, reg)[0], model[param_name], verbose=False)\n",
      "  print '%s max relative error: %e' % (param_name, rel_error(param_grad_num, grads[param_name]))\n",
      "  "
     ],
     "language": "python",
     "metadata": {},
     "outputs": [
      {
       "output_type": "stream",
       "stream": "stdout",
       "text": [
        "b2 max relative error: 8.190173e-11\n",
        "b1 max relative error: 5.435430e-08\n",
        "W1 max relative error: 4.426512e-09\n",
        "W2 max relative error: 2.045493e-09\n"
       ]
      }
     ],
     "prompt_number": 5
    },
    {
     "cell_type": "markdown",
     "metadata": {},
     "source": [
      "# Train the network\n",
      "To train the network we will use SGD with Momentum. Last assignment you implemented vanilla SGD. You will now implement the momentum update and the RMSProp update. Open the file `classifier_trainer.py` and familiarze yourself with the `ClassifierTrainer` class. It performs optimization given an arbitrary cost function data, and model. By default it uses vanilla SGD, which we have already implemented for you. First, run the optimization below using Vanilla SGD:"
     ]
    },
    {
     "cell_type": "code",
     "collapsed": false,
     "input": [
      "from cs231n.classifier_trainer import ClassifierTrainer\n",
      "\n",
      "model = init_toy_model()\n",
      "trainer = ClassifierTrainer()\n",
      "# call the trainer to optimize the loss\n",
      "# Notice that we're using sample_batches=False, so we're performing Gradient Descent (no sampled batches of data)\n",
      "best_model, loss_history, _, _ = trainer.train(X, y, X, y,\n",
      "                                             model, two_layer_net,\n",
      "                                             reg=0.001,\n",
      "                                             learning_rate=1e-1, momentum=0.0, learning_rate_decay=1,\n",
      "                                             update='sgd', sample_batches=False,\n",
      "                                             num_epochs=100,\n",
      "                                             verbose=False)\n",
      "print 'Final loss with vanilla SGD: %f' % (loss_history[-1], )"
     ],
     "language": "python",
     "metadata": {},
     "outputs": [
      {
       "output_type": "stream",
       "stream": "stdout",
       "text": [
        "starting iteration  0\n",
        "starting iteration  10\n",
        "starting iteration  20\n",
        "starting iteration  30\n",
        "starting iteration  40\n",
        "starting iteration  50\n",
        "starting iteration  60\n",
        "starting iteration  70\n",
        "starting iteration  80\n",
        "starting iteration  90\n",
        "Final loss with vanilla SGD: 0.940686\n"
       ]
      }
     ],
     "prompt_number": 6
    },
    {
     "cell_type": "markdown",
     "metadata": {},
     "source": [
      "Now fill in the **momentum update** in the first missing code block inside the `train` function, and run the same optimization as above but with the momentum update. You should see a much better result in the final obtained loss:"
     ]
    },
    {
     "cell_type": "code",
     "collapsed": false,
     "input": [
      "model = init_toy_model()\n",
      "trainer = ClassifierTrainer()\n",
      "# call the trainer to optimize the loss\n",
      "# Notice that we're using sample_batches=False, so we're performing Gradient Descent (no sampled batches of data)\n",
      "best_model, loss_history, _, _ = trainer.train(X, y, X, y,\n",
      "                                             model, two_layer_net,\n",
      "                                             reg=0.001,\n",
      "                                             learning_rate=1e-1, momentum=0.9, learning_rate_decay=1,\n",
      "                                             update='momentum', sample_batches=False,\n",
      "                                             num_epochs=100,\n",
      "                                             verbose=False)\n",
      "correct_loss = 0.494394\n",
      "print 'Final loss with momentum SGD: %f. We get: %f' % (loss_history[-1], correct_loss)"
     ],
     "language": "python",
     "metadata": {},
     "outputs": [
      {
       "output_type": "stream",
       "stream": "stdout",
       "text": [
        "starting iteration  0\n",
        "starting iteration  10\n",
        "starting iteration  20\n",
        "starting iteration  30\n",
        "starting iteration  40\n",
        "starting iteration  50\n",
        "starting iteration  60\n",
        "starting iteration  70\n",
        "starting iteration  80\n",
        "starting iteration "
       ]
      },
      {
       "output_type": "stream",
       "stream": "stdout",
       "text": [
        " 90\n",
        "Final loss with momentum SGD: 0.494394. We get: 0.494394\n"
       ]
      }
     ],
     "prompt_number": 15
    },
    {
     "cell_type": "markdown",
     "metadata": {},
     "source": [
      "Now also implement the **RMSProp** update rule inside the `train` function and rerun the optimization:"
     ]
    },
    {
     "cell_type": "code",
     "collapsed": false,
     "input": [
      "model = init_toy_model()\n",
      "trainer = ClassifierTrainer()\n",
      "# call the trainer to optimize the loss\n",
      "# Notice that we're using sample_batches=False, so we're performing Gradient Descent (no sampled batches of data)\n",
      "best_model, loss_history, _, _ = trainer.train(X, y, X, y,\n",
      "                                             model, two_layer_net,\n",
      "                                             reg=0.001,\n",
      "                                             learning_rate=1e-1, momentum=0.9, learning_rate_decay=1,\n",
      "                                             update='rmsprop', sample_batches=False,\n",
      "                                             num_epochs=100,\n",
      "                                             verbose=False)\n",
      "correct_loss = 0.439368\n",
      "print 'Final loss with RMSProp: %f. We get: %f' % (loss_history[-1], correct_loss)"
     ],
     "language": "python",
     "metadata": {},
     "outputs": [
      {
       "output_type": "stream",
       "stream": "stdout",
       "text": [
        "starting iteration  0\n",
        "starting iteration  10\n",
        "starting iteration  20\n",
        "starting iteration  30\n",
        "starting iteration  40\n",
        "starting iteration  50\n",
        "starting iteration  60\n",
        "starting iteration  70\n",
        "starting iteration  80\n",
        "starting iteration  90\n",
        "Final loss with RMSProp: 0.439368. We get: 0.439368\n"
       ]
      }
     ],
     "prompt_number": 19
    },
    {
     "cell_type": "markdown",
     "metadata": {},
     "source": [
      "# Load the data\n",
      "Now that you have implemented a two-layer network that passes gradient checks, it's time to load up our favorite CIFAR-10 data so we can use it to train a classifier."
     ]
    },
    {
     "cell_type": "code",
     "collapsed": false,
     "input": [
      "from cs231n.data_utils import load_CIFAR10\n",
      "\n",
      "def get_CIFAR10_data(num_training=49000, num_validation=1000, num_test=1000):\n",
      "    \"\"\"\n",
      "    Load the CIFAR-10 dataset from disk and perform preprocessing to prepare\n",
      "    it for the two-layer neural net classifier. These are the same steps as\n",
      "    we used for the SVM, but condensed to a single function.  \n",
      "    \"\"\"\n",
      "    # Load the raw CIFAR-10 data\n",
      "    cifar10_dir = 'cs231n/datasets/cifar-10-batches-py'\n",
      "    X_train, y_train, X_test, y_test = load_CIFAR10(cifar10_dir)\n",
      "        \n",
      "    # Subsample the data\n",
      "    mask = range(num_training, num_training + num_validation)\n",
      "    X_val = X_train[mask]\n",
      "    y_val = y_train[mask]\n",
      "    mask = range(num_training)\n",
      "    X_train = X_train[mask]\n",
      "    y_train = y_train[mask]\n",
      "    mask = range(num_test)\n",
      "    X_test = X_test[mask]\n",
      "    y_test = y_test[mask]\n",
      "\n",
      "    # Normalize the data: subtract the mean image\n",
      "    mean_image = np.mean(X_train, axis=0)\n",
      "    X_train -= mean_image\n",
      "    X_val -= mean_image\n",
      "    X_test -= mean_image\n",
      "\n",
      "    # Reshape data to rows\n",
      "    X_train = X_train.reshape(num_training, -1)\n",
      "    X_val = X_val.reshape(num_validation, -1)\n",
      "    X_test = X_test.reshape(num_test, -1)\n",
      "\n",
      "    return X_train, y_train, X_val, y_val, X_test, y_test\n",
      "\n",
      "\n",
      "# Invoke the above function to get our data.\n",
      "X_train, y_train, X_val, y_val, X_test, y_test = get_CIFAR10_data()\n",
      "print 'Train data shape: ', X_train.shape\n",
      "print 'Train labels shape: ', y_train.shape\n",
      "print 'Validation data shape: ', X_val.shape\n",
      "print 'Validation labels shape: ', y_val.shape\n",
      "print 'Test data shape: ', X_test.shape\n",
      "print 'Test labels shape: ', y_test.shape"
     ],
     "language": "python",
     "metadata": {},
     "outputs": [
      {
       "output_type": "stream",
       "stream": "stdout",
       "text": [
        "Train data shape:  (49000, 3072)\n",
        "Train labels shape:  (49000,)\n",
        "Validation data shape:  (1000, 3072)\n",
        "Validation labels shape:  (1000,)\n",
        "Test data shape:  (1000, 3072)\n",
        "Test labels shape:  (1000,)\n"
       ]
      }
     ],
     "prompt_number": 20
    },
    {
     "cell_type": "markdown",
     "metadata": {},
     "source": [
      "# Train a network\n",
      "To train our network we will use SGD with momentum. In addition, we will adjust the learning rate with an exponential learning rate schedule as optimization proceeds; after each epoch, we will reduce the learning rate by multiplying it by a decay rate."
     ]
    },
    {
     "cell_type": "code",
     "collapsed": false,
     "input": [
      "from cs231n.classifiers.neural_net import init_two_layer_model\n",
      "\n",
      "model = init_two_layer_model(32*32*3, 50, 10) # input size, hidden size, number of classes\n",
      "trainer = ClassifierTrainer()\n",
      "best_model, loss_history, train_acc, val_acc = trainer.train(X_train, y_train, X_val, y_val,\n",
      "                                             model, two_layer_net,\n",
      "                                             num_epochs=5, reg=1.0,\n",
      "                                             momentum=0.9, learning_rate_decay = 0.95,\n",
      "                                             learning_rate=1e-5, verbose=True)\n",
      "\n"
     ],
     "language": "python",
     "metadata": {},
     "outputs": [
      {
       "output_type": "stream",
       "stream": "stdout",
       "text": [
        "starting iteration  0\n",
        "Finished epoch 0 / 5: cost 2.302593, train: 0.111000, val 0.106000, lr 1.000000e-05"
       ]
      },
      {
       "output_type": "stream",
       "stream": "stdout",
       "text": [
        "\n",
        "starting iteration "
       ]
      },
      {
       "output_type": "stream",
       "stream": "stdout",
       "text": [
        " 10\n",
        "starting iteration "
       ]
      },
      {
       "output_type": "stream",
       "stream": "stdout",
       "text": [
        " 20\n",
        "starting iteration "
       ]
      },
      {
       "output_type": "stream",
       "stream": "stdout",
       "text": [
        " 30\n",
        "starting iteration "
       ]
      },
      {
       "output_type": "stream",
       "stream": "stdout",
       "text": [
        " 40\n",
        "starting iteration "
       ]
      },
      {
       "output_type": "stream",
       "stream": "stdout",
       "text": [
        " 50\n",
        "starting iteration "
       ]
      },
      {
       "output_type": "stream",
       "stream": "stdout",
       "text": [
        " 60\n",
        "starting iteration "
       ]
      },
      {
       "output_type": "stream",
       "stream": "stdout",
       "text": [
        " 70\n",
        "starting iteration "
       ]
      },
      {
       "output_type": "stream",
       "stream": "stdout",
       "text": [
        " 80\n",
        "starting iteration "
       ]
      },
      {
       "output_type": "stream",
       "stream": "stdout",
       "text": [
        " 90\n",
        "starting iteration "
       ]
      },
      {
       "output_type": "stream",
       "stream": "stdout",
       "text": [
        " 100\n",
        "starting iteration "
       ]
      },
      {
       "output_type": "stream",
       "stream": "stdout",
       "text": [
        " 110\n",
        "starting iteration "
       ]
      },
      {
       "output_type": "stream",
       "stream": "stdout",
       "text": [
        " 120\n",
        "starting iteration "
       ]
      },
      {
       "output_type": "stream",
       "stream": "stdout",
       "text": [
        " 130\n",
        "starting iteration "
       ]
      },
      {
       "output_type": "stream",
       "stream": "stdout",
       "text": [
        " 140\n",
        "starting iteration "
       ]
      },
      {
       "output_type": "stream",
       "stream": "stdout",
       "text": [
        " 150\n",
        "starting iteration "
       ]
      },
      {
       "output_type": "stream",
       "stream": "stdout",
       "text": [
        " 160\n",
        "starting iteration "
       ]
      },
      {
       "output_type": "stream",
       "stream": "stdout",
       "text": [
        " 170\n",
        "starting iteration "
       ]
      },
      {
       "output_type": "stream",
       "stream": "stdout",
       "text": [
        " 180\n",
        "starting iteration "
       ]
      },
      {
       "output_type": "stream",
       "stream": "stdout",
       "text": [
        " 190\n",
        "starting iteration "
       ]
      },
      {
       "output_type": "stream",
       "stream": "stdout",
       "text": [
        " 200\n",
        "starting iteration "
       ]
      },
      {
       "output_type": "stream",
       "stream": "stdout",
       "text": [
        " 210\n",
        "starting iteration "
       ]
      },
      {
       "output_type": "stream",
       "stream": "stdout",
       "text": [
        " 220\n",
        "starting iteration "
       ]
      },
      {
       "output_type": "stream",
       "stream": "stdout",
       "text": [
        " 230\n",
        "starting iteration "
       ]
      },
      {
       "output_type": "stream",
       "stream": "stdout",
       "text": [
        " 240\n",
        "starting iteration "
       ]
      },
      {
       "output_type": "stream",
       "stream": "stdout",
       "text": [
        " 250\n",
        "starting iteration "
       ]
      },
      {
       "output_type": "stream",
       "stream": "stdout",
       "text": [
        " 260\n",
        "starting iteration "
       ]
      },
      {
       "output_type": "stream",
       "stream": "stdout",
       "text": [
        " 270\n",
        "starting iteration "
       ]
      },
      {
       "output_type": "stream",
       "stream": "stdout",
       "text": [
        " 280\n",
        "starting iteration "
       ]
      },
      {
       "output_type": "stream",
       "stream": "stdout",
       "text": [
        " 290\n",
        "starting iteration "
       ]
      },
      {
       "output_type": "stream",
       "stream": "stdout",
       "text": [
        " 300\n",
        "starting iteration "
       ]
      },
      {
       "output_type": "stream",
       "stream": "stdout",
       "text": [
        " 310\n",
        "starting iteration "
       ]
      },
      {
       "output_type": "stream",
       "stream": "stdout",
       "text": [
        " 320\n",
        "starting iteration "
       ]
      },
      {
       "output_type": "stream",
       "stream": "stdout",
       "text": [
        " 330\n",
        "starting iteration "
       ]
      },
      {
       "output_type": "stream",
       "stream": "stdout",
       "text": [
        " 340\n",
        "starting iteration "
       ]
      },
      {
       "output_type": "stream",
       "stream": "stdout",
       "text": [
        " 350\n",
        "starting iteration "
       ]
      },
      {
       "output_type": "stream",
       "stream": "stdout",
       "text": [
        " 360\n",
        "starting iteration "
       ]
      },
      {
       "output_type": "stream",
       "stream": "stdout",
       "text": [
        " 370\n",
        "starting iteration "
       ]
      },
      {
       "output_type": "stream",
       "stream": "stdout",
       "text": [
        " 380\n",
        "starting iteration "
       ]
      },
      {
       "output_type": "stream",
       "stream": "stdout",
       "text": [
        " 390\n",
        "starting iteration "
       ]
      },
      {
       "output_type": "stream",
       "stream": "stdout",
       "text": [
        " 400\n",
        "starting iteration "
       ]
      },
      {
       "output_type": "stream",
       "stream": "stdout",
       "text": [
        " 410\n",
        "starting iteration "
       ]
      },
      {
       "output_type": "stream",
       "stream": "stdout",
       "text": [
        " 420\n",
        "starting iteration "
       ]
      },
      {
       "output_type": "stream",
       "stream": "stdout",
       "text": [
        " 430\n",
        "starting iteration "
       ]
      },
      {
       "output_type": "stream",
       "stream": "stdout",
       "text": [
        " 440\n",
        "starting iteration "
       ]
      },
      {
       "output_type": "stream",
       "stream": "stdout",
       "text": [
        " 450\n",
        "starting iteration "
       ]
      },
      {
       "output_type": "stream",
       "stream": "stdout",
       "text": [
        " 460\n",
        "starting iteration "
       ]
      },
      {
       "output_type": "stream",
       "stream": "stdout",
       "text": [
        " 470\n",
        "starting iteration "
       ]
      },
      {
       "output_type": "stream",
       "stream": "stdout",
       "text": [
        " 480\n",
        "Finished epoch 1 / 5: cost 2.244827, train: 0.165000, val 0.176000, lr 9.500000e-06"
       ]
      },
      {
       "output_type": "stream",
       "stream": "stdout",
       "text": [
        "\n",
        "starting iteration  490\n",
        "starting iteration "
       ]
      },
      {
       "output_type": "stream",
       "stream": "stdout",
       "text": [
        " 500\n",
        "starting iteration "
       ]
      },
      {
       "output_type": "stream",
       "stream": "stdout",
       "text": [
        " 510\n",
        "starting iteration "
       ]
      },
      {
       "output_type": "stream",
       "stream": "stdout",
       "text": [
        " 520\n",
        "starting iteration "
       ]
      },
      {
       "output_type": "stream",
       "stream": "stdout",
       "text": [
        " 530\n",
        "starting iteration "
       ]
      },
      {
       "output_type": "stream",
       "stream": "stdout",
       "text": [
        " 540\n",
        "starting iteration "
       ]
      },
      {
       "output_type": "stream",
       "stream": "stdout",
       "text": [
        " 550\n",
        "starting iteration "
       ]
      },
      {
       "output_type": "stream",
       "stream": "stdout",
       "text": [
        " 560\n",
        "starting iteration "
       ]
      },
      {
       "output_type": "stream",
       "stream": "stdout",
       "text": [
        " 570\n",
        "starting iteration "
       ]
      },
      {
       "output_type": "stream",
       "stream": "stdout",
       "text": [
        " 580\n",
        "starting iteration "
       ]
      },
      {
       "output_type": "stream",
       "stream": "stdout",
       "text": [
        " 590\n",
        "starting iteration "
       ]
      },
      {
       "output_type": "stream",
       "stream": "stdout",
       "text": [
        " 600\n",
        "starting iteration "
       ]
      },
      {
       "output_type": "stream",
       "stream": "stdout",
       "text": [
        " 610\n",
        "starting iteration "
       ]
      },
      {
       "output_type": "stream",
       "stream": "stdout",
       "text": [
        " 620\n",
        "starting iteration "
       ]
      },
      {
       "output_type": "stream",
       "stream": "stdout",
       "text": [
        " 630\n",
        "starting iteration "
       ]
      },
      {
       "output_type": "stream",
       "stream": "stdout",
       "text": [
        " 640\n",
        "starting iteration "
       ]
      },
      {
       "output_type": "stream",
       "stream": "stdout",
       "text": [
        " 650\n",
        "starting iteration "
       ]
      },
      {
       "output_type": "stream",
       "stream": "stdout",
       "text": [
        " 660\n",
        "starting iteration "
       ]
      },
      {
       "output_type": "stream",
       "stream": "stdout",
       "text": [
        " 670\n",
        "starting iteration "
       ]
      },
      {
       "output_type": "stream",
       "stream": "stdout",
       "text": [
        " 680\n",
        "starting iteration "
       ]
      },
      {
       "output_type": "stream",
       "stream": "stdout",
       "text": [
        " 690\n",
        "starting iteration "
       ]
      },
      {
       "output_type": "stream",
       "stream": "stdout",
       "text": [
        " 700\n",
        "starting iteration "
       ]
      },
      {
       "output_type": "stream",
       "stream": "stdout",
       "text": [
        " 710\n",
        "starting iteration "
       ]
      },
      {
       "output_type": "stream",
       "stream": "stdout",
       "text": [
        " 720\n",
        "starting iteration "
       ]
      },
      {
       "output_type": "stream",
       "stream": "stdout",
       "text": [
        " 730\n",
        "starting iteration "
       ]
      },
      {
       "output_type": "stream",
       "stream": "stdout",
       "text": [
        " 740\n",
        "starting iteration "
       ]
      },
      {
       "output_type": "stream",
       "stream": "stdout",
       "text": [
        " 750\n",
        "starting iteration "
       ]
      },
      {
       "output_type": "stream",
       "stream": "stdout",
       "text": [
        " 760\n",
        "starting iteration "
       ]
      },
      {
       "output_type": "stream",
       "stream": "stdout",
       "text": [
        " 770\n",
        "starting iteration "
       ]
      },
      {
       "output_type": "stream",
       "stream": "stdout",
       "text": [
        " 780\n",
        "starting iteration "
       ]
      },
      {
       "output_type": "stream",
       "stream": "stdout",
       "text": [
        " 790\n",
        "starting iteration "
       ]
      },
      {
       "output_type": "stream",
       "stream": "stdout",
       "text": [
        " 800\n",
        "starting iteration "
       ]
      },
      {
       "output_type": "stream",
       "stream": "stdout",
       "text": [
        " 810\n",
        "starting iteration "
       ]
      },
      {
       "output_type": "stream",
       "stream": "stdout",
       "text": [
        " 820\n",
        "starting iteration "
       ]
      },
      {
       "output_type": "stream",
       "stream": "stdout",
       "text": [
        " 830\n",
        "starting iteration "
       ]
      },
      {
       "output_type": "stream",
       "stream": "stdout",
       "text": [
        " 840\n",
        "starting iteration "
       ]
      },
      {
       "output_type": "stream",
       "stream": "stdout",
       "text": [
        " 850\n",
        "starting iteration "
       ]
      },
      {
       "output_type": "stream",
       "stream": "stdout",
       "text": [
        " 860\n",
        "starting iteration "
       ]
      },
      {
       "output_type": "stream",
       "stream": "stdout",
       "text": [
        " 870\n",
        "starting iteration "
       ]
      },
      {
       "output_type": "stream",
       "stream": "stdout",
       "text": [
        " 880\n",
        "starting iteration "
       ]
      },
      {
       "output_type": "stream",
       "stream": "stdout",
       "text": [
        " 890\n",
        "starting iteration "
       ]
      },
      {
       "output_type": "stream",
       "stream": "stdout",
       "text": [
        " 900\n",
        "starting iteration "
       ]
      },
      {
       "output_type": "stream",
       "stream": "stdout",
       "text": [
        " 910\n",
        "starting iteration "
       ]
      },
      {
       "output_type": "stream",
       "stream": "stdout",
       "text": [
        " 920\n",
        "starting iteration "
       ]
      },
      {
       "output_type": "stream",
       "stream": "stdout",
       "text": [
        " 930\n",
        "starting iteration "
       ]
      },
      {
       "output_type": "stream",
       "stream": "stdout",
       "text": [
        " 940\n",
        "starting iteration "
       ]
      },
      {
       "output_type": "stream",
       "stream": "stdout",
       "text": [
        " 950\n",
        "starting iteration "
       ]
      },
      {
       "output_type": "stream",
       "stream": "stdout",
       "text": [
        " 960\n",
        "starting iteration "
       ]
      },
      {
       "output_type": "stream",
       "stream": "stdout",
       "text": [
        " 970\n",
        "Finished epoch 2 / 5: cost 2.014006, train: 0.233000, val 0.251000, lr 9.025000e-06"
       ]
      },
      {
       "output_type": "stream",
       "stream": "stdout",
       "text": [
        "\n",
        "starting iteration  980\n",
        "starting iteration "
       ]
      },
      {
       "output_type": "stream",
       "stream": "stdout",
       "text": [
        " 990\n",
        "starting iteration "
       ]
      },
      {
       "output_type": "stream",
       "stream": "stdout",
       "text": [
        " 1000\n",
        "starting iteration "
       ]
      },
      {
       "output_type": "stream",
       "stream": "stdout",
       "text": [
        " 1010\n",
        "starting iteration "
       ]
      },
      {
       "output_type": "stream",
       "stream": "stdout",
       "text": [
        " 1020\n",
        "starting iteration "
       ]
      },
      {
       "output_type": "stream",
       "stream": "stdout",
       "text": [
        " 1030\n",
        "starting iteration "
       ]
      },
      {
       "output_type": "stream",
       "stream": "stdout",
       "text": [
        " 1040\n",
        "starting iteration "
       ]
      },
      {
       "output_type": "stream",
       "stream": "stdout",
       "text": [
        " 1050\n",
        "starting iteration "
       ]
      },
      {
       "output_type": "stream",
       "stream": "stdout",
       "text": [
        " 1060\n",
        "starting iteration "
       ]
      },
      {
       "output_type": "stream",
       "stream": "stdout",
       "text": [
        " 1070\n",
        "starting iteration "
       ]
      },
      {
       "output_type": "stream",
       "stream": "stdout",
       "text": [
        " 1080\n",
        "starting iteration "
       ]
      },
      {
       "output_type": "stream",
       "stream": "stdout",
       "text": [
        " 1090\n",
        "starting iteration "
       ]
      },
      {
       "output_type": "stream",
       "stream": "stdout",
       "text": [
        " 1100\n",
        "starting iteration "
       ]
      },
      {
       "output_type": "stream",
       "stream": "stdout",
       "text": [
        " 1110\n",
        "starting iteration "
       ]
      },
      {
       "output_type": "stream",
       "stream": "stdout",
       "text": [
        " 1120\n",
        "starting iteration "
       ]
      },
      {
       "output_type": "stream",
       "stream": "stdout",
       "text": [
        " 1130\n",
        "starting iteration "
       ]
      },
      {
       "output_type": "stream",
       "stream": "stdout",
       "text": [
        " 1140\n",
        "starting iteration "
       ]
      },
      {
       "output_type": "stream",
       "stream": "stdout",
       "text": [
        " 1150\n",
        "starting iteration "
       ]
      },
      {
       "output_type": "stream",
       "stream": "stdout",
       "text": [
        " 1160\n",
        "starting iteration "
       ]
      },
      {
       "output_type": "stream",
       "stream": "stdout",
       "text": [
        " 1170\n",
        "starting iteration "
       ]
      },
      {
       "output_type": "stream",
       "stream": "stdout",
       "text": [
        " 1180\n",
        "starting iteration "
       ]
      },
      {
       "output_type": "stream",
       "stream": "stdout",
       "text": [
        " 1190\n",
        "starting iteration "
       ]
      },
      {
       "output_type": "stream",
       "stream": "stdout",
       "text": [
        " 1200\n",
        "starting iteration "
       ]
      },
      {
       "output_type": "stream",
       "stream": "stdout",
       "text": [
        " 1210\n",
        "starting iteration "
       ]
      },
      {
       "output_type": "stream",
       "stream": "stdout",
       "text": [
        " 1220\n",
        "starting iteration "
       ]
      },
      {
       "output_type": "stream",
       "stream": "stdout",
       "text": [
        " 1230\n",
        "starting iteration "
       ]
      },
      {
       "output_type": "stream",
       "stream": "stdout",
       "text": [
        " 1240\n",
        "starting iteration "
       ]
      },
      {
       "output_type": "stream",
       "stream": "stdout",
       "text": [
        " 1250\n",
        "starting iteration "
       ]
      },
      {
       "output_type": "stream",
       "stream": "stdout",
       "text": [
        " 1260\n",
        "starting iteration "
       ]
      },
      {
       "output_type": "stream",
       "stream": "stdout",
       "text": [
        " 1270\n",
        "starting iteration "
       ]
      },
      {
       "output_type": "stream",
       "stream": "stdout",
       "text": [
        " 1280\n",
        "starting iteration "
       ]
      },
      {
       "output_type": "stream",
       "stream": "stdout",
       "text": [
        " 1290\n",
        "starting iteration "
       ]
      },
      {
       "output_type": "stream",
       "stream": "stdout",
       "text": [
        " 1300\n",
        "starting iteration "
       ]
      },
      {
       "output_type": "stream",
       "stream": "stdout",
       "text": [
        " 1310\n",
        "starting iteration "
       ]
      },
      {
       "output_type": "stream",
       "stream": "stdout",
       "text": [
        " 1320\n",
        "starting iteration "
       ]
      },
      {
       "output_type": "stream",
       "stream": "stdout",
       "text": [
        " 1330\n",
        "starting iteration "
       ]
      },
      {
       "output_type": "stream",
       "stream": "stdout",
       "text": [
        " 1340\n",
        "starting iteration "
       ]
      },
      {
       "output_type": "stream",
       "stream": "stdout",
       "text": [
        " 1350\n",
        "starting iteration "
       ]
      },
      {
       "output_type": "stream",
       "stream": "stdout",
       "text": [
        " 1360\n",
        "starting iteration "
       ]
      },
      {
       "output_type": "stream",
       "stream": "stdout",
       "text": [
        " 1370\n",
        "starting iteration "
       ]
      },
      {
       "output_type": "stream",
       "stream": "stdout",
       "text": [
        " 1380\n",
        "starting iteration "
       ]
      },
      {
       "output_type": "stream",
       "stream": "stdout",
       "text": [
        " 1390\n",
        "starting iteration "
       ]
      },
      {
       "output_type": "stream",
       "stream": "stdout",
       "text": [
        " 1400\n",
        "starting iteration "
       ]
      },
      {
       "output_type": "stream",
       "stream": "stdout",
       "text": [
        " 1410\n",
        "starting iteration "
       ]
      },
      {
       "output_type": "stream",
       "stream": "stdout",
       "text": [
        " 1420\n",
        "starting iteration "
       ]
      },
      {
       "output_type": "stream",
       "stream": "stdout",
       "text": [
        " 1430\n",
        "starting iteration "
       ]
      },
      {
       "output_type": "stream",
       "stream": "stdout",
       "text": [
        " 1440\n",
        "starting iteration "
       ]
      },
      {
       "output_type": "stream",
       "stream": "stdout",
       "text": [
        " 1450\n",
        "starting iteration "
       ]
      },
      {
       "output_type": "stream",
       "stream": "stdout",
       "text": [
        " 1460\n",
        "Finished epoch 3 / 5: cost 1.850754, train: 0.299000, val 0.296000, lr 8.573750e-06"
       ]
      },
      {
       "output_type": "stream",
       "stream": "stdout",
       "text": [
        "\n",
        "starting iteration  1470\n",
        "starting iteration "
       ]
      },
      {
       "output_type": "stream",
       "stream": "stdout",
       "text": [
        " 1480\n",
        "starting iteration "
       ]
      },
      {
       "output_type": "stream",
       "stream": "stdout",
       "text": [
        " 1490\n",
        "starting iteration "
       ]
      },
      {
       "output_type": "stream",
       "stream": "stdout",
       "text": [
        " 1500\n",
        "starting iteration "
       ]
      },
      {
       "output_type": "stream",
       "stream": "stdout",
       "text": [
        " 1510\n",
        "starting iteration "
       ]
      },
      {
       "output_type": "stream",
       "stream": "stdout",
       "text": [
        " 1520\n",
        "starting iteration "
       ]
      },
      {
       "output_type": "stream",
       "stream": "stdout",
       "text": [
        " 1530\n",
        "starting iteration "
       ]
      },
      {
       "output_type": "stream",
       "stream": "stdout",
       "text": [
        " 1540\n",
        "starting iteration "
       ]
      },
      {
       "output_type": "stream",
       "stream": "stdout",
       "text": [
        " 1550\n",
        "starting iteration "
       ]
      },
      {
       "output_type": "stream",
       "stream": "stdout",
       "text": [
        " 1560\n",
        "starting iteration "
       ]
      },
      {
       "output_type": "stream",
       "stream": "stdout",
       "text": [
        " 1570\n",
        "starting iteration "
       ]
      },
      {
       "output_type": "stream",
       "stream": "stdout",
       "text": [
        " 1580\n",
        "starting iteration "
       ]
      },
      {
       "output_type": "stream",
       "stream": "stdout",
       "text": [
        " 1590\n",
        "starting iteration "
       ]
      },
      {
       "output_type": "stream",
       "stream": "stdout",
       "text": [
        " 1600\n",
        "starting iteration "
       ]
      },
      {
       "output_type": "stream",
       "stream": "stdout",
       "text": [
        " 1610\n",
        "starting iteration "
       ]
      },
      {
       "output_type": "stream",
       "stream": "stdout",
       "text": [
        " 1620\n",
        "starting iteration "
       ]
      },
      {
       "output_type": "stream",
       "stream": "stdout",
       "text": [
        " 1630\n",
        "starting iteration "
       ]
      },
      {
       "output_type": "stream",
       "stream": "stdout",
       "text": [
        " 1640\n",
        "starting iteration "
       ]
      },
      {
       "output_type": "stream",
       "stream": "stdout",
       "text": [
        " 1650\n",
        "starting iteration "
       ]
      },
      {
       "output_type": "stream",
       "stream": "stdout",
       "text": [
        " 1660\n",
        "starting iteration "
       ]
      },
      {
       "output_type": "stream",
       "stream": "stdout",
       "text": [
        " 1670\n",
        "starting iteration "
       ]
      },
      {
       "output_type": "stream",
       "stream": "stdout",
       "text": [
        " 1680\n",
        "starting iteration "
       ]
      },
      {
       "output_type": "stream",
       "stream": "stdout",
       "text": [
        " 1690\n",
        "starting iteration "
       ]
      },
      {
       "output_type": "stream",
       "stream": "stdout",
       "text": [
        " 1700\n",
        "starting iteration "
       ]
      },
      {
       "output_type": "stream",
       "stream": "stdout",
       "text": [
        " 1710\n",
        "starting iteration "
       ]
      },
      {
       "output_type": "stream",
       "stream": "stdout",
       "text": [
        " 1720\n",
        "starting iteration "
       ]
      },
      {
       "output_type": "stream",
       "stream": "stdout",
       "text": [
        " 1730\n",
        "starting iteration "
       ]
      },
      {
       "output_type": "stream",
       "stream": "stdout",
       "text": [
        " 1740\n",
        "starting iteration "
       ]
      },
      {
       "output_type": "stream",
       "stream": "stdout",
       "text": [
        " 1750\n",
        "starting iteration "
       ]
      },
      {
       "output_type": "stream",
       "stream": "stdout",
       "text": [
        " 1760\n",
        "starting iteration "
       ]
      },
      {
       "output_type": "stream",
       "stream": "stdout",
       "text": [
        " 1770\n",
        "starting iteration "
       ]
      },
      {
       "output_type": "stream",
       "stream": "stdout",
       "text": [
        " 1780\n",
        "starting iteration "
       ]
      },
      {
       "output_type": "stream",
       "stream": "stdout",
       "text": [
        " 1790\n",
        "starting iteration "
       ]
      },
      {
       "output_type": "stream",
       "stream": "stdout",
       "text": [
        " 1800\n",
        "starting iteration "
       ]
      },
      {
       "output_type": "stream",
       "stream": "stdout",
       "text": [
        " 1810\n",
        "starting iteration "
       ]
      },
      {
       "output_type": "stream",
       "stream": "stdout",
       "text": [
        " 1820\n",
        "starting iteration "
       ]
      },
      {
       "output_type": "stream",
       "stream": "stdout",
       "text": [
        " 1830\n",
        "starting iteration "
       ]
      },
      {
       "output_type": "stream",
       "stream": "stdout",
       "text": [
        " 1840\n",
        "starting iteration "
       ]
      },
      {
       "output_type": "stream",
       "stream": "stdout",
       "text": [
        " 1850\n",
        "starting iteration "
       ]
      },
      {
       "output_type": "stream",
       "stream": "stdout",
       "text": [
        " 1860\n",
        "starting iteration "
       ]
      },
      {
       "output_type": "stream",
       "stream": "stdout",
       "text": [
        " 1870\n",
        "starting iteration "
       ]
      },
      {
       "output_type": "stream",
       "stream": "stdout",
       "text": [
        " 1880\n",
        "starting iteration "
       ]
      },
      {
       "output_type": "stream",
       "stream": "stdout",
       "text": [
        " 1890\n",
        "starting iteration "
       ]
      },
      {
       "output_type": "stream",
       "stream": "stdout",
       "text": [
        " 1900\n",
        "starting iteration "
       ]
      },
      {
       "output_type": "stream",
       "stream": "stdout",
       "text": [
        " 1910\n",
        "starting iteration "
       ]
      },
      {
       "output_type": "stream",
       "stream": "stdout",
       "text": [
        " 1920\n",
        "starting iteration "
       ]
      },
      {
       "output_type": "stream",
       "stream": "stdout",
       "text": [
        " 1930\n",
        "starting iteration "
       ]
      },
      {
       "output_type": "stream",
       "stream": "stdout",
       "text": [
        " 1940\n",
        "starting iteration "
       ]
      },
      {
       "output_type": "stream",
       "stream": "stdout",
       "text": [
        " 1950\n",
        "Finished epoch 4 / 5: cost 1.789624, train: 0.335000, val 0.338000, lr 8.145063e-06"
       ]
      },
      {
       "output_type": "stream",
       "stream": "stdout",
       "text": [
        "\n",
        "starting iteration  1960\n",
        "starting iteration "
       ]
      },
      {
       "output_type": "stream",
       "stream": "stdout",
       "text": [
        " 1970\n",
        "starting iteration "
       ]
      },
      {
       "output_type": "stream",
       "stream": "stdout",
       "text": [
        " 1980\n",
        "starting iteration "
       ]
      },
      {
       "output_type": "stream",
       "stream": "stdout",
       "text": [
        " 1990\n",
        "starting iteration "
       ]
      },
      {
       "output_type": "stream",
       "stream": "stdout",
       "text": [
        " 2000\n",
        "starting iteration "
       ]
      },
      {
       "output_type": "stream",
       "stream": "stdout",
       "text": [
        " 2010\n",
        "starting iteration "
       ]
      },
      {
       "output_type": "stream",
       "stream": "stdout",
       "text": [
        " 2020\n",
        "starting iteration "
       ]
      },
      {
       "output_type": "stream",
       "stream": "stdout",
       "text": [
        " 2030\n",
        "starting iteration "
       ]
      },
      {
       "output_type": "stream",
       "stream": "stdout",
       "text": [
        " 2040\n",
        "starting iteration "
       ]
      },
      {
       "output_type": "stream",
       "stream": "stdout",
       "text": [
        " 2050\n",
        "starting iteration "
       ]
      },
      {
       "output_type": "stream",
       "stream": "stdout",
       "text": [
        " 2060\n",
        "starting iteration "
       ]
      },
      {
       "output_type": "stream",
       "stream": "stdout",
       "text": [
        " 2070\n",
        "starting iteration "
       ]
      },
      {
       "output_type": "stream",
       "stream": "stdout",
       "text": [
        " 2080\n",
        "starting iteration "
       ]
      },
      {
       "output_type": "stream",
       "stream": "stdout",
       "text": [
        " 2090\n",
        "starting iteration "
       ]
      },
      {
       "output_type": "stream",
       "stream": "stdout",
       "text": [
        " 2100\n",
        "starting iteration "
       ]
      },
      {
       "output_type": "stream",
       "stream": "stdout",
       "text": [
        " 2110\n",
        "starting iteration "
       ]
      },
      {
       "output_type": "stream",
       "stream": "stdout",
       "text": [
        " 2120\n",
        "starting iteration "
       ]
      },
      {
       "output_type": "stream",
       "stream": "stdout",
       "text": [
        " 2130\n",
        "starting iteration "
       ]
      },
      {
       "output_type": "stream",
       "stream": "stdout",
       "text": [
        " 2140\n",
        "starting iteration "
       ]
      },
      {
       "output_type": "stream",
       "stream": "stdout",
       "text": [
        " 2150\n",
        "starting iteration "
       ]
      },
      {
       "output_type": "stream",
       "stream": "stdout",
       "text": [
        " 2160\n",
        "starting iteration "
       ]
      },
      {
       "output_type": "stream",
       "stream": "stdout",
       "text": [
        " 2170\n",
        "starting iteration "
       ]
      },
      {
       "output_type": "stream",
       "stream": "stdout",
       "text": [
        " 2180\n",
        "starting iteration "
       ]
      },
      {
       "output_type": "stream",
       "stream": "stdout",
       "text": [
        " 2190\n",
        "starting iteration "
       ]
      },
      {
       "output_type": "stream",
       "stream": "stdout",
       "text": [
        " 2200\n",
        "starting iteration "
       ]
      },
      {
       "output_type": "stream",
       "stream": "stdout",
       "text": [
        " 2210\n",
        "starting iteration "
       ]
      },
      {
       "output_type": "stream",
       "stream": "stdout",
       "text": [
        " 2220\n",
        "starting iteration "
       ]
      },
      {
       "output_type": "stream",
       "stream": "stdout",
       "text": [
        " 2230\n",
        "starting iteration "
       ]
      },
      {
       "output_type": "stream",
       "stream": "stdout",
       "text": [
        " 2240\n",
        "starting iteration "
       ]
      },
      {
       "output_type": "stream",
       "stream": "stdout",
       "text": [
        " 2250\n",
        "starting iteration "
       ]
      },
      {
       "output_type": "stream",
       "stream": "stdout",
       "text": [
        " 2260\n",
        "starting iteration "
       ]
      },
      {
       "output_type": "stream",
       "stream": "stdout",
       "text": [
        " 2270\n",
        "starting iteration "
       ]
      },
      {
       "output_type": "stream",
       "stream": "stdout",
       "text": [
        " 2280\n",
        "starting iteration "
       ]
      },
      {
       "output_type": "stream",
       "stream": "stdout",
       "text": [
        " 2290\n",
        "starting iteration "
       ]
      },
      {
       "output_type": "stream",
       "stream": "stdout",
       "text": [
        " 2300\n",
        "starting iteration "
       ]
      },
      {
       "output_type": "stream",
       "stream": "stdout",
       "text": [
        " 2310\n",
        "starting iteration "
       ]
      },
      {
       "output_type": "stream",
       "stream": "stdout",
       "text": [
        " 2320\n",
        "starting iteration "
       ]
      },
      {
       "output_type": "stream",
       "stream": "stdout",
       "text": [
        " 2330\n",
        "starting iteration "
       ]
      },
      {
       "output_type": "stream",
       "stream": "stdout",
       "text": [
        " 2340\n",
        "starting iteration "
       ]
      },
      {
       "output_type": "stream",
       "stream": "stdout",
       "text": [
        " 2350\n",
        "starting iteration "
       ]
      },
      {
       "output_type": "stream",
       "stream": "stdout",
       "text": [
        " 2360\n",
        "starting iteration "
       ]
      },
      {
       "output_type": "stream",
       "stream": "stdout",
       "text": [
        " 2370\n",
        "starting iteration "
       ]
      },
      {
       "output_type": "stream",
       "stream": "stdout",
       "text": [
        " 2380\n",
        "starting iteration "
       ]
      },
      {
       "output_type": "stream",
       "stream": "stdout",
       "text": [
        " 2390\n",
        "starting iteration "
       ]
      },
      {
       "output_type": "stream",
       "stream": "stdout",
       "text": [
        " 2400\n",
        "starting iteration "
       ]
      },
      {
       "output_type": "stream",
       "stream": "stdout",
       "text": [
        " 2410\n",
        "starting iteration "
       ]
      },
      {
       "output_type": "stream",
       "stream": "stdout",
       "text": [
        " 2420\n",
        "starting iteration "
       ]
      },
      {
       "output_type": "stream",
       "stream": "stdout",
       "text": [
        " 2430\n",
        "starting iteration "
       ]
      },
      {
       "output_type": "stream",
       "stream": "stdout",
       "text": [
        " 2440\n",
        "Finished epoch 5 / 5: cost 1.782102, train: 0.366000, val 0.365000, lr 7.737809e-06"
       ]
      },
      {
       "output_type": "stream",
       "stream": "stdout",
       "text": [
        "\n",
        "finished optimization. best validation accuracy: 0.365000\n"
       ]
      }
     ],
     "prompt_number": 21
    },
    {
     "cell_type": "markdown",
     "metadata": {},
     "source": [
      "# Debug the training\n",
      "With the default parameters we provided above, you should get a validation accuracy of about 0.37 on the validation set. This isn't very good.\n",
      "\n",
      "One strategy for getting insight into what's wrong is to plot the loss function and the accuracies on the training and validation sets during optimization.\n",
      "\n",
      "Another strategy is to visualize the weights that were learned in the first layer of the network. In most neural networks trained on visual data, the first layer weights typically show some visible structure when visualized."
     ]
    },
    {
     "cell_type": "code",
     "collapsed": false,
     "input": [
      "# Plot the loss function and train / validation accuracies\n",
      "plt.subplot(2, 1, 1)\n",
      "plt.plot(loss_history)\n",
      "plt.title('Loss history')\n",
      "plt.xlabel('Iteration')\n",
      "plt.ylabel('Loss')\n",
      "\n",
      "plt.subplot(2, 1, 2)\n",
      "plt.plot(train_acc)\n",
      "plt.plot(val_acc)\n",
      "plt.legend(['Training accuracy', 'Validation accuracy'], loc='lower right')\n",
      "plt.xlabel('Epoch')\n",
      "plt.ylabel('Clasification accuracy')"
     ],
     "language": "python",
     "metadata": {},
     "outputs": [
      {
       "metadata": {},
       "output_type": "pyout",
       "prompt_number": 22,
       "text": [
        "<matplotlib.text.Text at 0x104f78410>"
       ]
      },
      {
       "metadata": {},
       "output_type": "display_data",
       "png": "[encoded data removed]",
       "text": [
        "<matplotlib.figure.Figure at 0x104ee3990>"
       ]
      }
     ],
     "prompt_number": 22
    },
    {
     "cell_type": "code",
     "collapsed": false,
     "input": [
      "from cs231n.vis_utils import visualize_grid\n",
      "\n",
      "# Visualize the weights of the network\n",
      "\n",
      "def show_net_weights(model):\n",
      "    plt.imshow(visualize_grid(model['W1'].T.reshape(-1, 32, 32, 3), padding=3).astype('uint8'))\n",
      "    plt.gca().axis('off')\n",
      "    plt.show()\n",
      "\n",
      "show_net_weights(model)"
     ],
     "language": "python",
     "metadata": {},
     "outputs": [
      {
       "metadata": {},
       "output_type": "display_data",
       "png": "[encoded data removed]",
       "text": [
        "<matplotlib.figure.Figure at 0x104f63fd0>"
       ]
      }
     ],
     "prompt_number": 23
    },
    {
     "cell_type": "markdown",
     "metadata": {},
     "source": [
      "# Tune your hyperparameters\n",
      "\n",
      "**What's wrong?**. Looking at the visualizations above, we see that the loss is decreasing more or less linearly, which seems to suggest that the learning rate may be too low. Moreover, there is no gap between the training and validation accuracy, suggesting that the model we used has low capacity, and that we should increase its size. On the other hand, with a very large model we would expect to see more overfitting, which would manifest itself as a very large gap between the training and validation accuracy.\n",
      "\n",
      "**Tuning**. Tuning the hyperparameters and developing intuition for how they affect the final performance is a large part of using Neural Networks, so we want you to get a lot of practice. Below, you should experiment with different values of the various hyperparameters, including hidden layer size, learning rate, numer of training epochs, and regularization strength. You might also consider tuning the momentum and learning rate decay parameters, but you should be able to get good performance using the default values.\n",
      "\n",
      "**Approximate results**. You should be aim to achieve a classification accuracy of greater than 50% on the validation set. Our best network gets over 56% on the validation set.\n",
      "\n",
      "**Experiment**: You goal in this exercise is to get as good of a result on CIFAR-10 as you can, with a fully-connected Neural Network. For every 1% above 56% on the Test set we will award you with one extra bonus point. Feel free implement your own techniques (e.g. PCA to reduce dimensionality, or adding dropout, or adding features to the solver, etc.)."
     ]
    },
    {
     "cell_type": "code",
     "collapsed": false,
     "input": [
      "from cs231n.classifiers.neural_net import init_two_layer_model\n",
      "\n",
      "best_model = None # store the best model into this \n",
      "\n",
      "#################################################################################\n",
      "# TODO: Tune hyperparameters using the validation set. Store your best trained  #\n",
      "# model in best_model.                                                          #\n",
      "#                                                                               #\n",
      "# To help debug your network, it may help to use visualizations similar to the  #\n",
      "# ones we used above; these visualizations will have significant qualitative    #\n",
      "# differences from the ones we saw above for the poorly tuned network.          #\n",
      "#                                                                               #\n",
      "# Tweaking hyperparameters by hand can be fun, but you might find it useful to  #\n",
      "# write code to sweep through possible combinations of hyperparameters          #\n",
      "# automatically like we did on the previous assignment.                         #\n",
      "#################################################################################\n",
      "\n",
      "lr_arr = np.logspace(-6, -4, 3)\n",
      "hd_sz = 10\n",
      "trainer = ClassifierTrainer()\n",
      "    \n",
      "for lr in lr_arr:\n",
      "\n",
      "\n",
      "    print 'Learning rate is: %f. Hidden layer size is: %d' % (lr, hd_sz)\n",
      "\n",
      "    model = init_two_layer_model(32*32*3, hd_sz, 10) # input size, hidden size, number of classes\n",
      "\n",
      "    best_model, loss_history, train_acc, val_acc = trainer.train(X_train, y_train, X_val, y_val,\n",
      "                                                 model, two_layer_net,\n",
      "                                                 num_epochs=5, reg=1.0,\n",
      "                                                 momentum=0.9, learning_rate_decay = 0.95,\n",
      "                                                 learning_rate=lr, verbose=True)\n",
      "    \n",
      "    # Plot the loss function and train / validation accuracies\n",
      "    plt.subplot(2, 1, 1)\n",
      "    plt.plot(loss_history)\n",
      "    plt.title('Loss history')\n",
      "    plt.xlabel('Iteration')\n",
      "    plt.ylabel('Loss')\n",
      "\n",
      "    plt.subplot(2, 1, 2)\n",
      "    plt.plot(train_acc)\n",
      "    plt.plot(val_acc)\n",
      "    plt.legend(['Training accuracy', 'Validation accuracy'], loc='lower right')\n",
      "    plt.xlabel('Epoch')\n",
      "    plt.ylabel('Clasification accuracy')\n",
      "    \n",
      "#################################################################################\n",
      "#                               END OF YOUR CODE                                #\n",
      "#################################################################################"
     ],
     "language": "python",
     "metadata": {},
     "outputs": [
      {
       "output_type": "stream",
       "stream": "stdout",
       "text": [
        "Learning rate is: 0.000001. Hidden layer size is: 10\n",
        "starting iteration  0\n",
        "Finished epoch 0 / 5: cost 2.302587, train: 0.078000, val 0.085000, lr 1.000000e-06\n",
        "starting iteration "
       ]
      },
      {
       "output_type": "stream",
       "stream": "stdout",
       "text": [
        " 100\n",
        "starting iteration "
       ]
      },
      {
       "output_type": "stream",
       "stream": "stdout",
       "text": [
        " 200\n",
        "starting iteration "
       ]
      },
      {
       "output_type": "stream",
       "stream": "stdout",
       "text": [
        " 300\n",
        "starting iteration "
       ]
      },
      {
       "output_type": "stream",
       "stream": "stdout",
       "text": [
        " 400\n",
        "Finished epoch 1 / 5: cost 2.302587, train: 0.105000, val 0.128000, lr 9.500000e-07"
       ]
      },
      {
       "output_type": "stream",
       "stream": "stdout",
       "text": [
        "\n",
        "starting iteration "
       ]
      },
      {
       "output_type": "stream",
       "stream": "stdout",
       "text": [
        " 500\n",
        "starting iteration "
       ]
      },
      {
       "output_type": "stream",
       "stream": "stdout",
       "text": [
        " 600\n",
        "starting iteration "
       ]
      },
      {
       "output_type": "stream",
       "stream": "stdout",
       "text": [
        " 700\n",
        "starting iteration "
       ]
      },
      {
       "output_type": "stream",
       "stream": "stdout",
       "text": [
        " 800\n",
        "starting iteration "
       ]
      },
      {
       "output_type": "stream",
       "stream": "stdout",
       "text": [
        " 900\n",
        "Finished epoch 2 / 5: cost 2.302585, train: 0.147000, val 0.143000, lr 9.025000e-07"
       ]
      },
      {
       "output_type": "stream",
       "stream": "stdout",
       "text": [
        "\n",
        "starting iteration "
       ]
      },
      {
       "output_type": "stream",
       "stream": "stdout",
       "text": [
        " 1000\n",
        "starting iteration "
       ]
      },
      {
       "output_type": "stream",
       "stream": "stdout",
       "text": [
        " 1100\n",
        "starting iteration "
       ]
      },
      {
       "output_type": "stream",
       "stream": "stdout",
       "text": [
        " 1200\n",
        "starting iteration "
       ]
      },
      {
       "output_type": "stream",
       "stream": "stdout",
       "text": [
        " 1300\n",
        "starting iteration "
       ]
      },
      {
       "output_type": "stream",
       "stream": "stdout",
       "text": [
        " 1400\n",
        "Finished epoch 3 / 5: cost 2.302584, train: 0.142000, val 0.135000, lr 8.573750e-07"
       ]
      },
      {
       "output_type": "stream",
       "stream": "stdout",
       "text": [
        "\n",
        "starting iteration "
       ]
      },
      {
       "output_type": "stream",
       "stream": "stdout",
       "text": [
        " 1500\n",
        "starting iteration "
       ]
      },
      {
       "output_type": "stream",
       "stream": "stdout",
       "text": [
        " 1600\n",
        "starting iteration "
       ]
      },
      {
       "output_type": "stream",
       "stream": "stdout",
       "text": [
        " 1700\n",
        "starting iteration "
       ]
      },
      {
       "output_type": "stream",
       "stream": "stdout",
       "text": [
        " 1800\n",
        "starting iteration "
       ]
      },
      {
       "output_type": "stream",
       "stream": "stdout",
       "text": [
        " 1900\n",
        "Finished epoch 4 / 5: cost 2.302571, train: 0.137000, val 0.144000, lr 8.145062e-07"
       ]
      },
      {
       "output_type": "stream",
       "stream": "stdout",
       "text": [
        "\n",
        "starting iteration "
       ]
      },
      {
       "output_type": "stream",
       "stream": "stdout",
       "text": [
        " 2000\n",
        "starting iteration "
       ]
      },
      {
       "output_type": "stream",
       "stream": "stdout",
       "text": [
        " 2100\n",
        "starting iteration "
       ]
      },
      {
       "output_type": "stream",
       "stream": "stdout",
       "text": [
        " 2200\n",
        "starting iteration "
       ]
      },
      {
       "output_type": "stream",
       "stream": "stdout",
       "text": [
        " 2300\n",
        "starting iteration "
       ]
      },
      {
       "output_type": "stream",
       "stream": "stdout",
       "text": [
        " 2400\n",
        "Finished epoch 5 / 5: cost 2.302560, train: 0.146000, val 0.142000, lr 7.737809e-07"
       ]
      },
      {
       "output_type": "stream",
       "stream": "stdout",
       "text": [
        "\n",
        "finished optimization. best validation accuracy: 0.144000\n",
        "Learning rate is: 0.000010. Hidden layer size is: 10"
       ]
      },
      {
       "output_type": "stream",
       "stream": "stdout",
       "text": [
        "\n",
        "starting iteration  0\n",
        "Finished epoch 0 / 5: cost 2.302587, train: 0.093000, val 0.082000, lr 1.000000e-05\n",
        "starting iteration "
       ]
      },
      {
       "output_type": "stream",
       "stream": "stdout",
       "text": [
        " 100\n",
        "starting iteration "
       ]
      },
      {
       "output_type": "stream",
       "stream": "stdout",
       "text": [
        " 200\n",
        "starting iteration "
       ]
      },
      {
       "output_type": "stream",
       "stream": "stdout",
       "text": [
        " 300\n",
        "starting iteration "
       ]
      },
      {
       "output_type": "stream",
       "stream": "stdout",
       "text": [
        " 400\n",
        "Finished epoch 1 / 5: cost 2.296057, train: 0.160000, val 0.149000, lr 9.500000e-06"
       ]
      },
      {
       "output_type": "stream",
       "stream": "stdout",
       "text": [
        "\n",
        "starting iteration  500\n",
        "starting iteration "
       ]
      },
      {
       "output_type": "stream",
       "stream": "stdout",
       "text": [
        " 600\n",
        "starting iteration "
       ]
      },
      {
       "output_type": "stream",
       "stream": "stdout",
       "text": [
        " 700\n",
        "starting iteration "
       ]
      },
      {
       "output_type": "stream",
       "stream": "stdout",
       "text": [
        " 800\n",
        "starting iteration "
       ]
      },
      {
       "output_type": "stream",
       "stream": "stdout",
       "text": [
        " 900\n",
        "Finished epoch 2 / 5: cost 2.089954, train: 0.221000, val 0.217000, lr 9.025000e-06"
       ]
      },
      {
       "output_type": "stream",
       "stream": "stdout",
       "text": [
        "\n",
        "starting iteration "
       ]
      },
      {
       "output_type": "stream",
       "stream": "stdout",
       "text": [
        " 1000\n",
        "starting iteration "
       ]
      },
      {
       "output_type": "stream",
       "stream": "stdout",
       "text": [
        " 1100\n",
        "starting iteration "
       ]
      },
      {
       "output_type": "stream",
       "stream": "stdout",
       "text": [
        " 1200\n",
        "starting iteration "
       ]
      },
      {
       "output_type": "stream",
       "stream": "stdout",
       "text": [
        " 1300\n",
        "starting iteration "
       ]
      },
      {
       "output_type": "stream",
       "stream": "stdout",
       "text": [
        " 1400\n",
        "Finished epoch 3 / 5: cost 1.958530, train: 0.250000, val 0.277000, lr 8.573750e-06"
       ]
      },
      {
       "output_type": "stream",
       "stream": "stdout",
       "text": [
        "\n",
        "starting iteration "
       ]
      },
      {
       "output_type": "stream",
       "stream": "stdout",
       "text": [
        " 1500\n",
        "starting iteration "
       ]
      },
      {
       "output_type": "stream",
       "stream": "stdout",
       "text": [
        " 1600\n",
        "starting iteration "
       ]
      },
      {
       "output_type": "stream",
       "stream": "stdout",
       "text": [
        " 1700\n",
        "starting iteration "
       ]
      },
      {
       "output_type": "stream",
       "stream": "stdout",
       "text": [
        " 1800\n",
        "starting iteration "
       ]
      },
      {
       "output_type": "stream",
       "stream": "stdout",
       "text": [
        " 1900\n",
        "Finished epoch 4 / 5: cost 1.906928, train: 0.282000, val 0.309000, lr 8.145063e-06"
       ]
      },
      {
       "output_type": "stream",
       "stream": "stdout",
       "text": [
        "\n",
        "starting iteration "
       ]
      },
      {
       "output_type": "stream",
       "stream": "stdout",
       "text": [
        " 2000\n",
        "starting iteration "
       ]
      },
      {
       "output_type": "stream",
       "stream": "stdout",
       "text": [
        " 2100\n",
        "starting iteration "
       ]
      },
      {
       "output_type": "stream",
       "stream": "stdout",
       "text": [
        " 2200\n",
        "starting iteration "
       ]
      },
      {
       "output_type": "stream",
       "stream": "stdout",
       "text": [
        " 2300\n",
        "starting iteration "
       ]
      },
      {
       "output_type": "stream",
       "stream": "stdout",
       "text": [
        " 2400\n",
        "Finished epoch 5 / 5: cost 1.919537, train: 0.343000, val 0.337000, lr 7.737809e-06"
       ]
      },
      {
       "output_type": "stream",
       "stream": "stdout",
       "text": [
        "\n",
        "finished optimization. best validation accuracy: 0.337000\n",
        "Learning rate is: 0.000100. Hidden layer size is: 10\n",
        "starting iteration  0\n",
        "Finished epoch 0 / 5: cost 2.302587, train: 0.102000, val 0.106000, lr 1.000000e-04\n",
        "starting iteration "
       ]
      },
      {
       "output_type": "stream",
       "stream": "stdout",
       "text": [
        " 100\n",
        "starting iteration "
       ]
      },
      {
       "output_type": "stream",
       "stream": "stdout",
       "text": [
        " 200\n",
        "starting iteration "
       ]
      },
      {
       "output_type": "stream",
       "stream": "stdout",
       "text": [
        " 300\n",
        "starting iteration "
       ]
      },
      {
       "output_type": "stream",
       "stream": "stdout",
       "text": [
        " 400\n",
        "Finished epoch 1 / 5: cost 1.709646, train: 0.344000, val 0.387000, lr 9.500000e-05"
       ]
      },
      {
       "output_type": "stream",
       "stream": "stdout",
       "text": [
        "\n",
        "starting iteration "
       ]
      },
      {
       "output_type": "stream",
       "stream": "stdout",
       "text": [
        " 500\n",
        "starting iteration "
       ]
      },
      {
       "output_type": "stream",
       "stream": "stdout",
       "text": [
        " 600\n",
        "starting iteration "
       ]
      },
      {
       "output_type": "stream",
       "stream": "stdout",
       "text": [
        " 700\n",
        "starting iteration "
       ]
      },
      {
       "output_type": "stream",
       "stream": "stdout",
       "text": [
        " 800\n",
        "starting iteration "
       ]
      },
      {
       "output_type": "stream",
       "stream": "stdout",
       "text": [
        " 900\n",
        "Finished epoch 2 / 5: cost 1.667468, train: 0.386000, val 0.376000, lr 9.025000e-05"
       ]
      },
      {
       "output_type": "stream",
       "stream": "stdout",
       "text": [
        "\n",
        "starting iteration "
       ]
      },
      {
       "output_type": "stream",
       "stream": "stdout",
       "text": [
        " 1000\n",
        "starting iteration "
       ]
      },
      {
       "output_type": "stream",
       "stream": "stdout",
       "text": [
        " 1100\n",
        "starting iteration "
       ]
      },
      {
       "output_type": "stream",
       "stream": "stdout",
       "text": [
        " 1200\n",
        "starting iteration "
       ]
      },
      {
       "output_type": "stream",
       "stream": "stdout",
       "text": [
        " 1300\n",
        "starting iteration "
       ]
      },
      {
       "output_type": "stream",
       "stream": "stdout",
       "text": [
        " 1400\n",
        "Finished epoch 3 / 5: cost 1.761357, train: 0.396000, val 0.405000, lr 8.573750e-05"
       ]
      },
      {
       "output_type": "stream",
       "stream": "stdout",
       "text": [
        "\n",
        "starting iteration "
       ]
      },
      {
       "output_type": "stream",
       "stream": "stdout",
       "text": [
        " 1500\n",
        "starting iteration "
       ]
      },
      {
       "output_type": "stream",
       "stream": "stdout",
       "text": [
        " 1600\n",
        "starting iteration "
       ]
      },
      {
       "output_type": "stream",
       "stream": "stdout",
       "text": [
        " 1700\n",
        "starting iteration "
       ]
      },
      {
       "output_type": "stream",
       "stream": "stdout",
       "text": [
        " 1800\n",
        "starting iteration "
       ]
      },
      {
       "output_type": "stream",
       "stream": "stdout",
       "text": [
        " 1900\n",
        "Finished epoch 4 / 5: cost 1.749889, train: 0.394000, val 0.424000, lr 8.145062e-05"
       ]
      },
      {
       "output_type": "stream",
       "stream": "stdout",
       "text": [
        "\n",
        "starting iteration "
       ]
      },
      {
       "output_type": "stream",
       "stream": "stdout",
       "text": [
        " 2000\n",
        "starting iteration "
       ]
      },
      {
       "output_type": "stream",
       "stream": "stdout",
       "text": [
        " 2100\n",
        "starting iteration "
       ]
      },
      {
       "output_type": "stream",
       "stream": "stdout",
       "text": [
        " 2200\n",
        "starting iteration "
       ]
      },
      {
       "output_type": "stream",
       "stream": "stdout",
       "text": [
        " 2300\n",
        "starting iteration "
       ]
      },
      {
       "output_type": "stream",
       "stream": "stdout",
       "text": [
        " 2400\n",
        "Finished epoch 5 / 5: cost 1.621300, train: 0.417000, val 0.397000, lr 7.737809e-05"
       ]
      },
      {
       "output_type": "stream",
       "stream": "stdout",
       "text": [
        "\n",
        "finished optimization. best validation accuracy: 0.424000\n"
       ]
      },
      {
       "metadata": {},
       "output_type": "display_data",
       "png": "[encoded data removed]",
       "text": [
        "<matplotlib.figure.Figure at 0x107114c50>"
       ]
      }
     ],
     "prompt_number": 47
    },
    {
     "cell_type": "code",
     "collapsed": false,
     "input": [
      "# visualize the weights\n",
      "show_net_weights(best_model)"
     ],
     "language": "python",
     "metadata": {},
     "outputs": [
      {
       "metadata": {},
       "output_type": "display_data",
       "png": "[encoded data removed]",
       "text": [
        "<matplotlib.figure.Figure at 0x107107110>"
       ]
      }
     ],
     "prompt_number": 48
    },
    {
     "cell_type": "markdown",
     "metadata": {},
     "source": [
      "# Run on the test set\n",
      "When you are done experimenting, you should evaluate your final trained network on the test set. \n",
      "\n",
      "**We will give you extra bonus point for every 1% of accuracy above 56%.**"
     ]
    },
    {
     "cell_type": "code",
     "collapsed": false,
     "input": [
      "scores_test = two_layer_net(X_test, best_model)\n",
      "print 'Test accuracy: ', np.mean(np.argmax(scores_test, axis=1) == y_test)"
     ],
     "language": "python",
     "metadata": {},
     "outputs": [
      {
       "output_type": "stream",
       "stream": "stdout",
       "text": [
        "Test accuracy:  0.502\n"
       ]
      }
     ],
     "prompt_number": 44
    },
    {
     "cell_type": "code",
     "collapsed": false,
     "input": [],
     "language": "python",
     "metadata": {},
     "outputs": []
    }
   ],
   "metadata": {}
  }
 ]
}